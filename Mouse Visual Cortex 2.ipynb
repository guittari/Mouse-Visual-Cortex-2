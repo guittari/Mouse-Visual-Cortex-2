{
 "cells": [
  {
   "cell_type": "code",
   "execution_count": 1,
   "metadata": {},
   "outputs": [],
   "source": [
    "#Mouse Visual Cortex 2 Data Metrics:"
   ]
  },
  {
   "cell_type": "code",
   "execution_count": 11,
   "metadata": {},
   "outputs": [],
   "source": [
    "import networkx as nx\n",
    "import numpy as np"
   ]
  },
  {
   "cell_type": "code",
   "execution_count": 12,
   "metadata": {},
   "outputs": [],
   "source": [
    "graph = nx.read_graphml(\"Downloads/mouse_visual.cortex_2.graphml\")"
   ]
  },
  {
   "cell_type": "code",
   "execution_count": 13,
   "metadata": {},
   "outputs": [
    {
     "data": {
      "text/plain": [
       "<networkx.classes.digraph.DiGraph at 0xa1c110a50>"
      ]
     },
     "execution_count": 13,
     "metadata": {},
     "output_type": "execute_result"
    }
   ],
   "source": [
    "graph"
   ]
  },
  {
   "cell_type": "code",
   "execution_count": 14,
   "metadata": {},
   "outputs": [
    {
     "data": {
      "text/plain": [
       "DiDegreeView({'n0': 0, 'n1': 8, 'n2': 30, 'n3': 10, 'n4': 2, 'n5': 28, 'n6': 23, 'n7': 14, 'n8': 3, 'n9': 29, 'n10': 31, 'n11': 21, 'n12': 21, 'n13': 0, 'n14': 1, 'n15': 1, 'n16': 1, 'n17': 1, 'n18': 2, 'n19': 1, 'n20': 1, 'n21': 1, 'n22': 1, 'n23': 1, 'n24': 1, 'n25': 1, 'n26': 1, 'n27': 1, 'n28': 1, 'n29': 1, 'n30': 1, 'n31': 1, 'n32': 1, 'n33': 1, 'n34': 1, 'n35': 3, 'n36': 2, 'n37': 1, 'n38': 1, 'n39': 1, 'n40': 1, 'n41': 1, 'n42': 1, 'n43': 1, 'n44': 1, 'n45': 1, 'n46': 1, 'n47': 1, 'n48': 1, 'n49': 1, 'n50': 1, 'n51': 1, 'n52': 1, 'n53': 1, 'n54': 1, 'n55': 1, 'n56': 1, 'n57': 1, 'n58': 1, 'n59': 2, 'n60': 2, 'n61': 1, 'n62': 1, 'n63': 1, 'n64': 1, 'n65': 1, 'n66': 1, 'n67': 1, 'n68': 1, 'n69': 1, 'n70': 1, 'n71': 1, 'n72': 1, 'n73': 1, 'n74': 1, 'n75': 1, 'n76': 1, 'n77': 1, 'n78': 1, 'n79': 1, 'n80': 1, 'n81': 1, 'n82': 4, 'n83': 1, 'n84': 1, 'n85': 1, 'n86': 1, 'n87': 1, 'n88': 1, 'n89': 1, 'n90': 1, 'n91': 1, 'n92': 1, 'n93': 1, 'n94': 1, 'n95': 1, 'n96': 1, 'n97': 1, 'n98': 1, 'n99': 1, 'n100': 1, 'n101': 1, 'n102': 3, 'n103': 2, 'n104': 2, 'n105': 2, 'n106': 1, 'n107': 1, 'n108': 1, 'n109': 1, 'n110': 1, 'n111': 1, 'n112': 1, 'n113': 1, 'n114': 1, 'n115': 1, 'n116': 1, 'n117': 1, 'n118': 1, 'n119': 1, 'n120': 1, 'n121': 1, 'n122': 1, 'n123': 1, 'n124': 1, 'n125': 1, 'n126': 1, 'n127': 1, 'n128': 1, 'n129': 2, 'n130': 2, 'n131': 2, 'n132': 1, 'n133': 1, 'n134': 1, 'n135': 1, 'n136': 1, 'n137': 1, 'n138': 1, 'n139': 1, 'n140': 1, 'n141': 1, 'n142': 1, 'n143': 1, 'n144': 1, 'n145': 1, 'n146': 1, 'n147': 2, 'n148': 2, 'n149': 4, 'n150': 1, 'n151': 1, 'n152': 2, 'n153': 1, 'n154': 1, 'n155': 1, 'n156': 1, 'n157': 1, 'n158': 1, 'n159': 1, 'n160': 1, 'n161': 1, 'n162': 1, 'n163': 1, 'n164': 1, 'n165': 1, 'n166': 1, 'n167': 1, 'n168': 1, 'n169': 1, 'n170': 1, 'n171': 1, 'n172': 1, 'n173': 1, 'n174': 1, 'n175': 1, 'n176': 2, 'n177': 2, 'n178': 1, 'n179': 1, 'n180': 1, 'n181': 1, 'n182': 1, 'n183': 1, 'n184': 2, 'n185': 2, 'n186': 1, 'n187': 1, 'n188': 1, 'n189': 1, 'n190': 1, 'n191': 1, 'n192': 1, 'n193': 1, 'n194': 1})"
      ]
     },
     "execution_count": 14,
     "metadata": {},
     "output_type": "execute_result"
    }
   ],
   "source": [
    "graph.degree()"
   ]
  },
  {
   "cell_type": "code",
   "execution_count": 15,
   "metadata": {},
   "outputs": [
    {
     "data": {
      "text/plain": [
       "195"
      ]
     },
     "execution_count": 15,
     "metadata": {},
     "output_type": "execute_result"
    }
   ],
   "source": [
    "graph.number_of_nodes()"
   ]
  },
  {
   "cell_type": "code",
   "execution_count": 16,
   "metadata": {},
   "outputs": [
    {
     "data": {
      "text/plain": [
       "214"
      ]
     },
     "execution_count": 16,
     "metadata": {},
     "output_type": "execute_result"
    }
   ],
   "source": [
    "graph.number_of_edges()"
   ]
  },
  {
   "cell_type": "code",
   "execution_count": 38,
   "metadata": {},
   "outputs": [
    {
     "name": "stdout",
     "output_type": "stream",
     "text": [
      "Name: \n",
      "Type: DiGraph\n",
      "Number of nodes: 195\n",
      "Number of edges: 214\n",
      "Average in degree:   1.0974\n",
      "Average out degree:   1.0974\n"
     ]
    }
   ],
   "source": [
    "print(nx.info(graph))"
   ]
  },
  {
   "cell_type": "code",
   "execution_count": 18,
   "metadata": {},
   "outputs": [
    {
     "data": {
      "text/plain": [
       "{'n0': 0.0,\n",
       " 'n1': 0.041237113402061855,\n",
       " 'n2': 0.15463917525773196,\n",
       " 'n3': 0.05154639175257732,\n",
       " 'n4': 0.010309278350515464,\n",
       " 'n5': 0.14432989690721648,\n",
       " 'n6': 0.11855670103092783,\n",
       " 'n7': 0.07216494845360824,\n",
       " 'n8': 0.015463917525773196,\n",
       " 'n9': 0.14948453608247422,\n",
       " 'n10': 0.15979381443298968,\n",
       " 'n11': 0.10824742268041238,\n",
       " 'n12': 0.10824742268041238,\n",
       " 'n13': 0.0,\n",
       " 'n14': 0.005154639175257732,\n",
       " 'n15': 0.005154639175257732,\n",
       " 'n16': 0.005154639175257732,\n",
       " 'n17': 0.005154639175257732,\n",
       " 'n18': 0.010309278350515464,\n",
       " 'n19': 0.005154639175257732,\n",
       " 'n20': 0.005154639175257732,\n",
       " 'n21': 0.005154639175257732,\n",
       " 'n22': 0.005154639175257732,\n",
       " 'n23': 0.005154639175257732,\n",
       " 'n24': 0.005154639175257732,\n",
       " 'n25': 0.005154639175257732,\n",
       " 'n26': 0.005154639175257732,\n",
       " 'n27': 0.005154639175257732,\n",
       " 'n28': 0.005154639175257732,\n",
       " 'n29': 0.005154639175257732,\n",
       " 'n30': 0.005154639175257732,\n",
       " 'n31': 0.005154639175257732,\n",
       " 'n32': 0.005154639175257732,\n",
       " 'n33': 0.005154639175257732,\n",
       " 'n34': 0.005154639175257732,\n",
       " 'n35': 0.015463917525773196,\n",
       " 'n36': 0.010309278350515464,\n",
       " 'n37': 0.005154639175257732,\n",
       " 'n38': 0.005154639175257732,\n",
       " 'n39': 0.005154639175257732,\n",
       " 'n40': 0.005154639175257732,\n",
       " 'n41': 0.005154639175257732,\n",
       " 'n42': 0.005154639175257732,\n",
       " 'n43': 0.005154639175257732,\n",
       " 'n44': 0.005154639175257732,\n",
       " 'n45': 0.005154639175257732,\n",
       " 'n46': 0.005154639175257732,\n",
       " 'n47': 0.005154639175257732,\n",
       " 'n48': 0.005154639175257732,\n",
       " 'n49': 0.005154639175257732,\n",
       " 'n50': 0.005154639175257732,\n",
       " 'n51': 0.005154639175257732,\n",
       " 'n52': 0.005154639175257732,\n",
       " 'n53': 0.005154639175257732,\n",
       " 'n54': 0.005154639175257732,\n",
       " 'n55': 0.005154639175257732,\n",
       " 'n56': 0.005154639175257732,\n",
       " 'n57': 0.005154639175257732,\n",
       " 'n58': 0.005154639175257732,\n",
       " 'n59': 0.010309278350515464,\n",
       " 'n60': 0.010309278350515464,\n",
       " 'n61': 0.005154639175257732,\n",
       " 'n62': 0.005154639175257732,\n",
       " 'n63': 0.005154639175257732,\n",
       " 'n64': 0.005154639175257732,\n",
       " 'n65': 0.005154639175257732,\n",
       " 'n66': 0.005154639175257732,\n",
       " 'n67': 0.005154639175257732,\n",
       " 'n68': 0.005154639175257732,\n",
       " 'n69': 0.005154639175257732,\n",
       " 'n70': 0.005154639175257732,\n",
       " 'n71': 0.005154639175257732,\n",
       " 'n72': 0.005154639175257732,\n",
       " 'n73': 0.005154639175257732,\n",
       " 'n74': 0.005154639175257732,\n",
       " 'n75': 0.005154639175257732,\n",
       " 'n76': 0.005154639175257732,\n",
       " 'n77': 0.005154639175257732,\n",
       " 'n78': 0.005154639175257732,\n",
       " 'n79': 0.005154639175257732,\n",
       " 'n80': 0.005154639175257732,\n",
       " 'n81': 0.005154639175257732,\n",
       " 'n82': 0.020618556701030927,\n",
       " 'n83': 0.005154639175257732,\n",
       " 'n84': 0.005154639175257732,\n",
       " 'n85': 0.005154639175257732,\n",
       " 'n86': 0.005154639175257732,\n",
       " 'n87': 0.005154639175257732,\n",
       " 'n88': 0.005154639175257732,\n",
       " 'n89': 0.005154639175257732,\n",
       " 'n90': 0.005154639175257732,\n",
       " 'n91': 0.005154639175257732,\n",
       " 'n92': 0.005154639175257732,\n",
       " 'n93': 0.005154639175257732,\n",
       " 'n94': 0.005154639175257732,\n",
       " 'n95': 0.005154639175257732,\n",
       " 'n96': 0.005154639175257732,\n",
       " 'n97': 0.005154639175257732,\n",
       " 'n98': 0.005154639175257732,\n",
       " 'n99': 0.005154639175257732,\n",
       " 'n100': 0.005154639175257732,\n",
       " 'n101': 0.005154639175257732,\n",
       " 'n102': 0.015463917525773196,\n",
       " 'n103': 0.010309278350515464,\n",
       " 'n104': 0.010309278350515464,\n",
       " 'n105': 0.010309278350515464,\n",
       " 'n106': 0.005154639175257732,\n",
       " 'n107': 0.005154639175257732,\n",
       " 'n108': 0.005154639175257732,\n",
       " 'n109': 0.005154639175257732,\n",
       " 'n110': 0.005154639175257732,\n",
       " 'n111': 0.005154639175257732,\n",
       " 'n112': 0.005154639175257732,\n",
       " 'n113': 0.005154639175257732,\n",
       " 'n114': 0.005154639175257732,\n",
       " 'n115': 0.005154639175257732,\n",
       " 'n116': 0.005154639175257732,\n",
       " 'n117': 0.005154639175257732,\n",
       " 'n118': 0.005154639175257732,\n",
       " 'n119': 0.005154639175257732,\n",
       " 'n120': 0.005154639175257732,\n",
       " 'n121': 0.005154639175257732,\n",
       " 'n122': 0.005154639175257732,\n",
       " 'n123': 0.005154639175257732,\n",
       " 'n124': 0.005154639175257732,\n",
       " 'n125': 0.005154639175257732,\n",
       " 'n126': 0.005154639175257732,\n",
       " 'n127': 0.005154639175257732,\n",
       " 'n128': 0.005154639175257732,\n",
       " 'n129': 0.010309278350515464,\n",
       " 'n130': 0.010309278350515464,\n",
       " 'n131': 0.010309278350515464,\n",
       " 'n132': 0.005154639175257732,\n",
       " 'n133': 0.005154639175257732,\n",
       " 'n134': 0.005154639175257732,\n",
       " 'n135': 0.005154639175257732,\n",
       " 'n136': 0.005154639175257732,\n",
       " 'n137': 0.005154639175257732,\n",
       " 'n138': 0.005154639175257732,\n",
       " 'n139': 0.005154639175257732,\n",
       " 'n140': 0.005154639175257732,\n",
       " 'n141': 0.005154639175257732,\n",
       " 'n142': 0.005154639175257732,\n",
       " 'n143': 0.005154639175257732,\n",
       " 'n144': 0.005154639175257732,\n",
       " 'n145': 0.005154639175257732,\n",
       " 'n146': 0.005154639175257732,\n",
       " 'n147': 0.010309278350515464,\n",
       " 'n148': 0.010309278350515464,\n",
       " 'n149': 0.020618556701030927,\n",
       " 'n150': 0.005154639175257732,\n",
       " 'n151': 0.005154639175257732,\n",
       " 'n152': 0.010309278350515464,\n",
       " 'n153': 0.005154639175257732,\n",
       " 'n154': 0.005154639175257732,\n",
       " 'n155': 0.005154639175257732,\n",
       " 'n156': 0.005154639175257732,\n",
       " 'n157': 0.005154639175257732,\n",
       " 'n158': 0.005154639175257732,\n",
       " 'n159': 0.005154639175257732,\n",
       " 'n160': 0.005154639175257732,\n",
       " 'n161': 0.005154639175257732,\n",
       " 'n162': 0.005154639175257732,\n",
       " 'n163': 0.005154639175257732,\n",
       " 'n164': 0.005154639175257732,\n",
       " 'n165': 0.005154639175257732,\n",
       " 'n166': 0.005154639175257732,\n",
       " 'n167': 0.005154639175257732,\n",
       " 'n168': 0.005154639175257732,\n",
       " 'n169': 0.005154639175257732,\n",
       " 'n170': 0.005154639175257732,\n",
       " 'n171': 0.005154639175257732,\n",
       " 'n172': 0.005154639175257732,\n",
       " 'n173': 0.005154639175257732,\n",
       " 'n174': 0.005154639175257732,\n",
       " 'n175': 0.005154639175257732,\n",
       " 'n176': 0.010309278350515464,\n",
       " 'n177': 0.010309278350515464,\n",
       " 'n178': 0.005154639175257732,\n",
       " 'n179': 0.005154639175257732,\n",
       " 'n180': 0.005154639175257732,\n",
       " 'n181': 0.005154639175257732,\n",
       " 'n182': 0.005154639175257732,\n",
       " 'n183': 0.005154639175257732,\n",
       " 'n184': 0.010309278350515464,\n",
       " 'n185': 0.010309278350515464,\n",
       " 'n186': 0.005154639175257732,\n",
       " 'n187': 0.005154639175257732,\n",
       " 'n188': 0.005154639175257732,\n",
       " 'n189': 0.005154639175257732,\n",
       " 'n190': 0.005154639175257732,\n",
       " 'n191': 0.005154639175257732,\n",
       " 'n192': 0.005154639175257732,\n",
       " 'n193': 0.005154639175257732,\n",
       " 'n194': 0.005154639175257732}"
      ]
     },
     "execution_count": 18,
     "metadata": {},
     "output_type": "execute_result"
    }
   ],
   "source": [
    "nx.degree_centrality(graph)"
   ]
  },
  {
   "cell_type": "code",
   "execution_count": 43,
   "metadata": {},
   "outputs": [],
   "source": [
    "#UNABLE TO DETERMINE nx.average_shortest_path_length(graph) because graph is not weakly connected\n",
    "\n"
   ]
  },
  {
   "cell_type": "code",
   "execution_count": 20,
   "metadata": {},
   "outputs": [
    {
     "data": {
      "text/plain": [
       "0.006793550092519165"
      ]
     },
     "execution_count": 20,
     "metadata": {},
     "output_type": "execute_result"
    }
   ],
   "source": [
    "nx.average_node_connectivity(graph)"
   ]
  },
  {
   "cell_type": "code",
   "execution_count": 21,
   "metadata": {},
   "outputs": [
    {
     "data": {
      "text/plain": [
       "0"
      ]
     },
     "execution_count": 21,
     "metadata": {},
     "output_type": "execute_result"
    }
   ],
   "source": [
    "nx.node_connectivity(graph)"
   ]
  },
  {
   "cell_type": "code",
   "execution_count": 22,
   "metadata": {},
   "outputs": [
    {
     "data": {
      "text/plain": [
       "0.01053212334379443"
      ]
     },
     "execution_count": 22,
     "metadata": {},
     "output_type": "execute_result"
    }
   ],
   "source": [
    "nx.average_clustering(graph)"
   ]
  },
  {
   "cell_type": "code",
   "execution_count": 46,
   "metadata": {},
   "outputs": [
    {
     "data": {
      "text/plain": [
       "0.2660814042773009"
      ]
     },
     "execution_count": 46,
     "metadata": {},
     "output_type": "execute_result"
    }
   ],
   "source": [
    "#global efficiency \n",
    "ugraph= nx.to_undirected(graph)\n",
    "nx.global_efficiency(ugraph)"
   ]
  },
  {
   "cell_type": "code",
   "execution_count": 47,
   "metadata": {},
   "outputs": [
    {
     "data": {
      "text/plain": [
       "0.02120210323128095"
      ]
     },
     "execution_count": 47,
     "metadata": {},
     "output_type": "execute_result"
    }
   ],
   "source": [
    "#local efficiency \n",
    "\n",
    "ugraph= nx.to_undirected(graph)\n",
    "nx.local_efficiency(ugraph)"
   ]
  },
  {
   "cell_type": "code",
   "execution_count": 45,
   "metadata": {},
   "outputs": [
    {
     "data": {
      "text/plain": [
       "{'n0': 0,\n",
       " 'n1': 0.03571428571428571,\n",
       " 'n2': 0.0022988505747126436,\n",
       " 'n3': 0,\n",
       " 'n4': 0.5,\n",
       " 'n5': 0,\n",
       " 'n6': 0,\n",
       " 'n7': 0.01098901098901099,\n",
       " 'n8': 0,\n",
       " 'n9': 0,\n",
       " 'n10': 0,\n",
       " 'n11': 0,\n",
       " 'n12': 0.004761904761904762,\n",
       " 'n13': 0,\n",
       " 'n14': 0,\n",
       " 'n15': 0,\n",
       " 'n16': 0,\n",
       " 'n17': 0,\n",
       " 'n18': 0.5,\n",
       " 'n19': 0,\n",
       " 'n20': 0,\n",
       " 'n21': 0,\n",
       " 'n22': 0,\n",
       " 'n23': 0,\n",
       " 'n24': 0,\n",
       " 'n25': 0,\n",
       " 'n26': 0,\n",
       " 'n27': 0,\n",
       " 'n28': 0,\n",
       " 'n29': 0,\n",
       " 'n30': 0,\n",
       " 'n31': 0,\n",
       " 'n32': 0,\n",
       " 'n33': 0,\n",
       " 'n34': 0,\n",
       " 'n35': 0,\n",
       " 'n36': 0,\n",
       " 'n37': 0,\n",
       " 'n38': 0,\n",
       " 'n39': 0,\n",
       " 'n40': 0,\n",
       " 'n41': 0,\n",
       " 'n42': 0,\n",
       " 'n43': 0,\n",
       " 'n44': 0,\n",
       " 'n45': 0,\n",
       " 'n46': 0,\n",
       " 'n47': 0,\n",
       " 'n48': 0,\n",
       " 'n49': 0,\n",
       " 'n50': 0,\n",
       " 'n51': 0,\n",
       " 'n52': 0,\n",
       " 'n53': 0,\n",
       " 'n54': 0,\n",
       " 'n55': 0,\n",
       " 'n56': 0,\n",
       " 'n57': 0,\n",
       " 'n58': 0,\n",
       " 'n59': 0,\n",
       " 'n60': 0,\n",
       " 'n61': 0,\n",
       " 'n62': 0,\n",
       " 'n63': 0,\n",
       " 'n64': 0,\n",
       " 'n65': 0,\n",
       " 'n66': 0,\n",
       " 'n67': 0,\n",
       " 'n68': 0,\n",
       " 'n69': 0,\n",
       " 'n70': 0,\n",
       " 'n71': 0,\n",
       " 'n72': 0,\n",
       " 'n73': 0,\n",
       " 'n74': 0,\n",
       " 'n75': 0,\n",
       " 'n76': 0,\n",
       " 'n77': 0,\n",
       " 'n78': 0,\n",
       " 'n79': 0,\n",
       " 'n80': 0,\n",
       " 'n81': 0,\n",
       " 'n82': 0,\n",
       " 'n83': 0,\n",
       " 'n84': 0,\n",
       " 'n85': 0,\n",
       " 'n86': 0,\n",
       " 'n87': 0,\n",
       " 'n88': 0,\n",
       " 'n89': 0,\n",
       " 'n90': 0,\n",
       " 'n91': 0,\n",
       " 'n92': 0,\n",
       " 'n93': 0,\n",
       " 'n94': 0,\n",
       " 'n95': 0,\n",
       " 'n96': 0,\n",
       " 'n97': 0,\n",
       " 'n98': 0,\n",
       " 'n99': 0,\n",
       " 'n100': 0,\n",
       " 'n101': 0,\n",
       " 'n102': 0,\n",
       " 'n103': 0,\n",
       " 'n104': 0,\n",
       " 'n105': 0,\n",
       " 'n106': 0,\n",
       " 'n107': 0,\n",
       " 'n108': 0,\n",
       " 'n109': 0,\n",
       " 'n110': 0,\n",
       " 'n111': 0,\n",
       " 'n112': 0,\n",
       " 'n113': 0,\n",
       " 'n114': 0,\n",
       " 'n115': 0,\n",
       " 'n116': 0,\n",
       " 'n117': 0,\n",
       " 'n118': 0,\n",
       " 'n119': 0,\n",
       " 'n120': 0,\n",
       " 'n121': 0,\n",
       " 'n122': 0,\n",
       " 'n123': 0,\n",
       " 'n124': 0,\n",
       " 'n125': 0,\n",
       " 'n126': 0,\n",
       " 'n127': 0,\n",
       " 'n128': 0,\n",
       " 'n129': 0,\n",
       " 'n130': 0,\n",
       " 'n131': 0,\n",
       " 'n132': 0,\n",
       " 'n133': 0,\n",
       " 'n134': 0,\n",
       " 'n135': 0,\n",
       " 'n136': 0,\n",
       " 'n137': 0,\n",
       " 'n138': 0,\n",
       " 'n139': 0,\n",
       " 'n140': 0,\n",
       " 'n141': 0,\n",
       " 'n142': 0,\n",
       " 'n143': 0,\n",
       " 'n144': 0,\n",
       " 'n145': 0,\n",
       " 'n146': 0,\n",
       " 'n147': 0,\n",
       " 'n148': 0,\n",
       " 'n149': 0,\n",
       " 'n150': 0,\n",
       " 'n151': 0,\n",
       " 'n152': 0,\n",
       " 'n153': 0,\n",
       " 'n154': 0,\n",
       " 'n155': 0,\n",
       " 'n156': 0,\n",
       " 'n157': 0,\n",
       " 'n158': 0,\n",
       " 'n159': 0,\n",
       " 'n160': 0,\n",
       " 'n161': 0,\n",
       " 'n162': 0,\n",
       " 'n163': 0,\n",
       " 'n164': 0,\n",
       " 'n165': 0,\n",
       " 'n166': 0,\n",
       " 'n167': 0,\n",
       " 'n168': 0,\n",
       " 'n169': 0,\n",
       " 'n170': 0,\n",
       " 'n171': 0,\n",
       " 'n172': 0,\n",
       " 'n173': 0,\n",
       " 'n174': 0,\n",
       " 'n175': 0,\n",
       " 'n176': 0,\n",
       " 'n177': 0,\n",
       " 'n178': 0,\n",
       " 'n179': 0,\n",
       " 'n180': 0,\n",
       " 'n181': 0,\n",
       " 'n182': 0,\n",
       " 'n183': 0,\n",
       " 'n184': 0.5,\n",
       " 'n185': 0.5,\n",
       " 'n186': 0,\n",
       " 'n187': 0,\n",
       " 'n188': 0,\n",
       " 'n189': 0,\n",
       " 'n190': 0,\n",
       " 'n191': 0,\n",
       " 'n192': 0,\n",
       " 'n193': 0,\n",
       " 'n194': 0}"
      ]
     },
     "execution_count": 45,
     "metadata": {},
     "output_type": "execute_result"
    }
   ],
   "source": [
    "nx.clustering(graph)"
   ]
  },
  {
   "cell_type": "code",
   "execution_count": 55,
   "metadata": {},
   "outputs": [
    {
     "data": {
      "text/plain": [
       "matrix([[ 0.        ,  0.        ,  0.        , ...,  0.        ,\n",
       "          0.        ,  0.        ],\n",
       "        [ 0.        , -0.05607477,  0.        , ..., -0.02803738,\n",
       "         -0.02803738, -0.02803738],\n",
       "        [ 0.        , -0.28037383,  0.        , ..., -0.14018692,\n",
       "         -0.14018692, -0.14018692],\n",
       "        ...,\n",
       "        [ 0.        ,  0.        ,  0.        , ...,  0.        ,\n",
       "          0.        ,  0.        ],\n",
       "        [ 0.        ,  0.        ,  0.        , ...,  0.        ,\n",
       "          0.        ,  0.        ],\n",
       "        [ 0.        ,  0.        ,  0.        , ...,  0.        ,\n",
       "          0.        ,  0.        ]])"
      ]
     },
     "execution_count": 55,
     "metadata": {},
     "output_type": "execute_result"
    }
   ],
   "source": [
    "#modularity\n",
    "\n",
    "nx.directed_modularity_matrix(graph)"
   ]
  },
  {
   "cell_type": "code",
   "execution_count": 58,
   "metadata": {},
   "outputs": [],
   "source": [
    "#smallworld not working despite working for mouse visual cortex 1. \n",
    "#output said 'graph not connected'"
   ]
  },
  {
   "cell_type": "code",
   "execution_count": 52,
   "metadata": {},
   "outputs": [
    {
     "data": {
      "text/plain": [
       "False"
      ]
     },
     "execution_count": 52,
     "metadata": {},
     "output_type": "execute_result"
    }
   ],
   "source": [
    "nx.is_connected(ugraph)"
   ]
  },
  {
   "cell_type": "code",
   "execution_count": 28,
   "metadata": {},
   "outputs": [
    {
     "data": {
      "text/plain": [
       "0.0"
      ]
     },
     "execution_count": 28,
     "metadata": {},
     "output_type": "execute_result"
    }
   ],
   "source": [
    "nx.overall_reciprocity(graph)"
   ]
  },
  {
   "cell_type": "code",
   "execution_count": 29,
   "metadata": {},
   "outputs": [
    {
     "data": {
      "text/plain": [
       "0.0008035355564483728"
      ]
     },
     "execution_count": 29,
     "metadata": {},
     "output_type": "execute_result"
    }
   ],
   "source": [
    "nx.transitivity(graph)"
   ]
  },
  {
   "cell_type": "code",
   "execution_count": 59,
   "metadata": {},
   "outputs": [],
   "source": [
    "#non_randomness not working because not implemented for directed type"
   ]
  },
  {
   "cell_type": "code",
   "execution_count": 60,
   "metadata": {},
   "outputs": [
    {
     "data": {
      "text/plain": [
       "2"
      ]
     },
     "execution_count": 60,
     "metadata": {},
     "output_type": "execute_result"
    }
   ],
   "source": [
    "nx.number_of_isolates(graph)"
   ]
  },
  {
   "cell_type": "code",
   "execution_count": 32,
   "metadata": {},
   "outputs": [
    {
     "data": {
      "text/plain": [
       "1.0"
      ]
     },
     "execution_count": 32,
     "metadata": {},
     "output_type": "execute_result"
    }
   ],
   "source": [
    "nx.flow_hierarchy(graph)"
   ]
  },
  {
   "cell_type": "code",
   "execution_count": 62,
   "metadata": {},
   "outputs": [],
   "source": [
    "#nx.diameter(graph)=Found infinite path length because the digraph is not strongly connected"
   ]
  },
  {
   "cell_type": "code",
   "execution_count": 35,
   "metadata": {},
   "outputs": [
    {
     "data": {
      "text/plain": [
       "3"
      ]
     },
     "execution_count": 35,
     "metadata": {},
     "output_type": "execute_result"
    }
   ],
   "source": [
    "nx.number_weakly_connected_components(graph)"
   ]
  },
  {
   "cell_type": "code",
   "execution_count": 36,
   "metadata": {},
   "outputs": [
    {
     "data": {
      "text/plain": [
       "195"
      ]
     },
     "execution_count": 36,
     "metadata": {},
     "output_type": "execute_result"
    }
   ],
   "source": [
    "nx.number_strongly_connected_components(graph)"
   ]
  },
  {
   "cell_type": "code",
   "execution_count": 63,
   "metadata": {},
   "outputs": [
    {
     "data": {
      "text/plain": [
       "<networkx.classes.digraph.DiGraph at 0xa1c0fc990>"
      ]
     },
     "execution_count": 63,
     "metadata": {},
     "output_type": "execute_result"
    }
   ],
   "source": [
    "#motifs fingerprint\n",
    "graph.subgraph(graph).copy()"
   ]
  },
  {
   "cell_type": "code",
   "execution_count": 64,
   "metadata": {},
   "outputs": [
    {
     "data": {
      "text/plain": [
       "0.005656886069257203"
      ]
     },
     "execution_count": 64,
     "metadata": {},
     "output_type": "execute_result"
    }
   ],
   "source": [
    "nx.density(graph)"
   ]
  },
  {
   "cell_type": "code",
   "execution_count": 66,
   "metadata": {},
   "outputs": [
    {
     "ename": "AttributeError",
     "evalue": "module 'networkx' has no attribute 'degree_distribution'",
     "output_type": "error",
     "traceback": [
      "\u001b[0;31m---------------------------------------------------------------------------\u001b[0m",
      "\u001b[0;31mAttributeError\u001b[0m                            Traceback (most recent call last)",
      "\u001b[0;32m<ipython-input-66-742a7f9f59d2>\u001b[0m in \u001b[0;36m<module>\u001b[0;34m\u001b[0m\n\u001b[0;32m----> 1\u001b[0;31m \u001b[0mnx\u001b[0m\u001b[0;34m.\u001b[0m\u001b[0mdegree_distribution\u001b[0m\u001b[0;34m(\u001b[0m\u001b[0mgraph\u001b[0m\u001b[0;34m)\u001b[0m\u001b[0;34m\u001b[0m\u001b[0;34m\u001b[0m\u001b[0m\n\u001b[0m",
      "\u001b[0;31mAttributeError\u001b[0m: module 'networkx' has no attribute 'degree_distribution'"
     ]
    }
   ],
   "source": [
    "nx.degree_distribution(graph)"
   ]
  },
  {
   "cell_type": "code",
   "execution_count": 68,
   "metadata": {},
   "outputs": [
    {
     "data": {
      "text/plain": [
       "[Text(0, 0, '8'),\n",
       " Text(0, 0, '7'),\n",
       " Text(0, 0, '6'),\n",
       " Text(0, 0, '5'),\n",
       " Text(0, 0, '4'),\n",
       " Text(0, 0, '3'),\n",
       " Text(0, 0, '2'),\n",
       " Text(0, 0, '1'),\n",
       " Text(0, 0, '0')]"
      ]
     },
     "execution_count": 68,
     "metadata": {},
     "output_type": "execute_result"
    },
    {
     "data": {
      "image/png": "[encoded data removed]",
      "text/plain": [
       "<Figure size 432x288 with 1 Axes>"
      ]
     },
     "metadata": {
      "needs_background": "light"
     },
     "output_type": "display_data"
    }
   ],
   "source": [
    "#degree Distribution \n",
    "\n",
    "\n",
    "import collections\n",
    "import matplotlib.pyplot as plt\n",
    "import networkx as nx\n",
    "\n",
    "G = nx.gnp_random_graph(100, 0.02)\n",
    "\n",
    "degree_sequence = sorted([d for n, d in G.degree()], reverse=True)  # degree sequence\n",
    "# print \"Degree sequence\", degree_sequence\n",
    "degreeCount = collections.Counter(degree_sequence)\n",
    "deg, cnt = zip(*degreeCount.items())\n",
    "\n",
    "fig, ax = plt.subplots()\n",
    "plt.bar(deg, cnt, width=0.80, color='b')\n",
    "\n",
    "plt.title(\"Degree Histogram\")\n",
    "plt.ylabel(\"Count\")\n",
    "plt.xlabel(\"Degree\")\n",
    "ax.set_xticks([d + 0.4 for d in deg])\n",
    "ax.set_xticklabels(deg)"
   ]
  },
  {
   "cell_type": "code",
   "execution_count": null,
   "metadata": {},
   "outputs": [],
   "source": []
  }
 ],
 "metadata": {
  "kernelspec": {
   "display_name": "Python 3",
   "language": "python",
   "name": "python3"
  },
  "language_info": {
   "codemirror_mode": {
    "name": "ipython",
    "version": 3
   },
   "file_extension": ".py",
   "mimetype": "text/x-python",
   "name": "python",
   "nbconvert_exporter": "python",
   "pygments_lexer": "ipython3",
   "version": "3.7.6"
  }
 },
 "nbformat": 4,
 "nbformat_minor": 4
}
